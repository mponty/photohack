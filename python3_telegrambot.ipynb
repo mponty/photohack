{
 "cells": [
  {
   "cell_type": "code",
   "execution_count": 2,
   "metadata": {},
   "outputs": [
    {
     "name": "stdout",
     "output_type": "stream",
     "text": [
      "Requirement already satisfied: pyTelegramBotAPI in /home/ubuntu/.local/lib/python3.5/site-packages (3.6.6)\n",
      "Requirement already satisfied: requests in /usr/local/lib/python3.5/dist-packages (from pyTelegramBotAPI) (2.20.0)\n",
      "Requirement already satisfied: six in /usr/lib/python3/dist-packages (from pyTelegramBotAPI) (1.10.0)\n",
      "Requirement already satisfied: idna<2.8,>=2.5 in /usr/local/lib/python3.5/dist-packages (from requests->pyTelegramBotAPI) (2.7)\n",
      "Requirement already satisfied: urllib3<1.25,>=1.21.1 in /usr/local/lib/python3.5/dist-packages (from requests->pyTelegramBotAPI) (1.24.3)\n",
      "Requirement already satisfied: chardet<3.1.0,>=3.0.2 in /usr/local/lib/python3.5/dist-packages (from requests->pyTelegramBotAPI) (3.0.4)\n",
      "Requirement already satisfied: certifi>=2017.4.17 in /usr/local/lib/python3.5/dist-packages (from requests->pyTelegramBotAPI) (2019.3.9)\n",
      "\u001b[33mYou are using pip version 19.0.3, however version 19.1.1 is available.\n",
      "You should consider upgrading via the 'pip install --upgrade pip' command.\u001b[0m\n"
     ]
    }
   ],
   "source": [
    "!pip install pyTelegramBotAPI"
   ]
  },
  {
   "cell_type": "code",
   "execution_count": 3,
   "metadata": {},
   "outputs": [
    {
     "name": "stdout",
     "output_type": "stream",
     "text": [
      "Collecting opencv-python\n",
      "\u001b[?25l  Downloading https://files.pythonhosted.org/packages/7b/d2/a2dbf83d4553ca6b3701d91d75e42fe50aea97acdc00652dca515749fb5d/opencv_python-4.1.0.25-cp36-cp36m-manylinux1_x86_64.whl (26.6MB)\n",
      "\u001b[K    100% |████████████████████████████████| 26.6MB 2.4MB/s eta 0:00:01\n",
      "\u001b[?25hRequirement already satisfied: numpy>=1.11.3 in /home/ubuntu/anaconda3/lib/python3.6/site-packages (from opencv-python) (1.15.4)\n",
      "Installing collected packages: opencv-python\n",
      "Successfully installed opencv-python-4.1.0.25\n",
      "\u001b[33mYou are using pip version 10.0.1, however version 19.1.1 is available.\n",
      "You should consider upgrading via the 'pip install --upgrade pip' command.\u001b[0m\n"
     ]
    }
   ],
   "source": [
    "!pip install opencv-python"
   ]
  },
  {
   "cell_type": "code",
   "execution_count": 1,
   "metadata": {},
   "outputs": [],
   "source": [
    "\n"
   ]
  },
  {
   "cell_type": "code",
   "execution_count": 2,
   "metadata": {},
   "outputs": [
    {
     "name": "stdout",
     "output_type": "stream",
     "text": [
      "girl.jpg  girl.jpg.1  Untitled.ipynb\r\n"
     ]
    }
   ],
   "source": [
    "!ls"
   ]
  },
  {
   "cell_type": "code",
   "execution_count": 4,
   "metadata": {},
   "outputs": [
    {
     "name": "stdout",
     "output_type": "stream",
     "text": [
      "girl.jpg  girl.jpg.1  test.jpg\tUntitled.ipynb\r\n"
     ]
    }
   ],
   "source": [
    "!ls"
   ]
  },
  {
   "cell_type": "code",
   "execution_count": 4,
   "metadata": {},
   "outputs": [
    {
     "name": "stdout",
     "output_type": "stream",
     "text": [
      "Cloning into 'hackathon-sdk'...\n",
      "remote: Enumerating objects: 17, done.\u001b[K\n",
      "remote: Counting objects: 100% (17/17), done.\u001b[K\n",
      "remote: Compressing objects: 100% (14/14), done.\u001b[K\n",
      "remote: Total 17 (delta 1), reused 17 (delta 1), pack-reused 0\u001b[K\n",
      "Unpacking objects: 100% (17/17), done.\n",
      "Checking connectivity... done.\n"
     ]
    }
   ],
   "source": [
    "!git clone https://github.com/PhotoLabDevelopment/hackathon-sdk.git"
   ]
  },
  {
   "cell_type": "code",
   "execution_count": 11,
   "metadata": {},
   "outputs": [],
   "source": [
    "!mv hackathon-sdk hackathon_sdk"
   ]
  },
  {
   "cell_type": "code",
   "execution_count": 12,
   "metadata": {},
   "outputs": [],
   "source": [
    "\n",
    "\n",
    "python3 animefy.py ~/photohack/inputs ~/photohack/outputs ~/photohack/repos/stylegan-encoder ~/photohack/repos/TwinGAN ~/photohack/models/256\n",
    "\n"
   ]
  },
  {
   "cell_type": "code",
   "execution_count": 1,
   "metadata": {},
   "outputs": [],
   "source": []
  },
  {
   "cell_type": "code",
   "execution_count": 4,
   "metadata": {},
   "outputs": [
    {
     "name": "stdout",
     "output_type": "stream",
     "text": [
      "nikulin_dmitry_1.jpg\r\n"
     ]
    }
   ],
   "source": [
    "!ls photohack/inputs"
   ]
  },
  {
   "cell_type": "code",
   "execution_count": 8,
   "metadata": {},
   "outputs": [
    {
     "name": "stdout",
     "output_type": "stream",
     "text": [
      "checkpoint  graph.pbtxt\t\t\t\t   model.ckpt-100000.index\r\n",
      "flags.txt   model.ckpt-100000.data-00000-of-00001  model.ckpt-100000.meta\r\n"
     ]
    }
   ],
   "source": [
    "!ls photohack/models/256"
   ]
  },
  {
   "cell_type": "code",
   "execution_count": 5,
   "metadata": {},
   "outputs": [
    {
     "name": "stdout",
     "output_type": "stream",
     "text": [
      "/home/ubuntu/workspace\r\n"
     ]
    }
   ],
   "source": [
    "!pwd"
   ]
  },
  {
   "cell_type": "code",
   "execution_count": 6,
   "metadata": {},
   "outputs": [],
   "source": []
  },
  {
   "cell_type": "code",
   "execution_count": 2,
   "metadata": {},
   "outputs": [],
   "source": []
  },
  {
   "cell_type": "code",
   "execution_count": null,
   "metadata": {},
   "outputs": [],
   "source": []
  },
  {
   "cell_type": "code",
   "execution_count": 13,
   "metadata": {},
   "outputs": [
    {
     "name": "stdout",
     "output_type": "stream",
     "text": [
      "content_url: http://temp-images.ws.pho.to/c3c36184e243c14de064ee2fb8d837fb1eddf89c.jpeg\n",
      "template_name: 1001525\n"
     ]
    }
   ],
   "source": [
    "\n",
    "\n",
    "\n",
    "\n",
    "content_filename = 'girl.jpg'\n",
    "if not os.path.exists(content_filename):\n",
    "    api.download_file('http://soft.photolab.me/samples/girl.jpg', content_filename)\n",
    "\n",
    "\n",
    "content_url = api.image_upload(content_filename)\n",
    "print('content_url: {}'.format(content_url))\n",
    "\n",
    "template_name = api.template_upload(resourses_filename)\n",
    "print('template_name: {}'.format(template_name))"
   ]
  },
  {
   "cell_type": "code",
   "execution_count": 15,
   "metadata": {},
   "outputs": [
    {
     "name": "stdout",
     "output_type": "stream",
     "text": [
      "for template_name: 1001525, result_url: http://worker-images.ws.pho.to/i2/1b181467821c40ac7e151b5270cde5f252291ba2_result.png\n"
     ]
    }
   ],
   "source": [
    "result_url = api.template_process('deepmask_process',[{\n",
    "    'url' : content_url\n",
    "}])\n",
    "print('for template_name: {}, result_url: {}'.format(template_name, result_url))"
   ]
  },
  {
   "cell_type": "code",
   "execution_count": null,
   "metadata": {},
   "outputs": [],
   "source": [
    "main('/home/ubuntu/workspace/photohack/inputs',\n",
    "    '/home/ubuntu/workspace/photohack/outputs',\n",
    "    '/home/ubuntu/workspace/photohack/repos/stylegan-encoder',\n",
    "    '/home/ubuntu/workspace/photohack/repos/TwinGAN',\n",
    "    '/home/ubuntu/workspace/photohack/models/256')"
   ]
  },
  {
   "cell_type": "code",
   "execution_count": null,
   "metadata": {},
   "outputs": [],
   "source": [
    "# import argparse\n",
    "# import subprocess\n",
    "# import tempfile\n",
    "# from pathlib import Path\n",
    "# import telebot\n",
    "# import requests\n",
    "# import cv2\n",
    "# import os.path\n",
    "# from hackathon_sdk.python.client_photolab import ClientPhotolab\n",
    "\n",
    "# def main(input_dir: Path, output_dir: Path, stylegan_dir: Path, twingan_dir: Path, twingan_model_dir: Path):\n",
    "#     with tempfile.TemporaryDirectory(prefix='animefy-') as work_dir:\n",
    "#         work_dir = Path(work_dir)\n",
    "#         assert work_dir.exists() and work_dir.is_dir()\n",
    "\n",
    "#         aligned_images_dir = work_dir / 'aligned'\n",
    "\n",
    "#         subprocess.check_call([\n",
    "#             'python3',\n",
    "#             'align_images.py',\n",
    "#             '--output_size', '256',\n",
    "#             str(input_dir),\n",
    "#             str(aligned_images_dir),\n",
    "#         ], cwd=str(stylegan_dir))\n",
    "\n",
    "#         subprocess.check_call([\n",
    "#             'python3',\n",
    "#             'inference/image_translation_infer.py',\n",
    "#             '--model_path', str(twingan_model_dir),\n",
    "#             '--image_hw', '256',\n",
    "#             '--input_tensor_name', 'sources_ph',\n",
    "#             '--output_tensor_name', 'custom_generated_t_style_source:0',\n",
    "#             '--input_image_path', str(aligned_images_dir),\n",
    "#             '--output_image_path', str(output_dir),\n",
    "#         ], cwd=str(twingan_dir))\n",
    "\n",
    "# images_path_input = '/home/ubuntu/workspace/photohack/inputs/'\n",
    "# images_path_output = '/home/ubuntu/workspace/photohack/outputs/'\n",
    "\n",
    "# resourses_filename = 'resources.zip'\n",
    "# if not os.path.exists(resourses_filename):\n",
    "#     api.download_file('http://soft.photolab.me/samples/resources.zip', resourses_filename)\n",
    "# api = ClientPhotolab()\n",
    "# bot = telebot.TeleBot(\"655293955:AAG9YBDrgh-mX5dAy6HIAsoP_W2Y7tHsWzs\")\n",
    "\n",
    "# @bot.message_handler(content_types=['document', 'photo'])\n",
    "# def handle_docs_audio(message):\n",
    "#     chat_id = message.chat.id\n",
    "#     photo_id = message.photo[len(message.photo) - 1].file_id\n",
    "    \n",
    "#     file_info = bot.get_file(photo_id)\n",
    "#     downloaded_file = bot.download_file(file_info.file_path)\n",
    "#     with open(images_path_input + 'test.jpg', 'wb') as new_file:\n",
    "#         new_file.write(downloaded_file)\n",
    "#     content_url = api.image_upload(images_path_input + 'test.jpg')\n",
    "#     result_url = api.template_process('deepmask_process',[{\n",
    "#         'url' : content_url\n",
    "#     }])\n",
    "#     print('done')\n",
    "    \n",
    "#     bot.reply_to(message, result_url)\n",
    "#     _result_url = api.template_process(2708,[{\n",
    "#         'url' : content_url\n",
    "#     }])\n",
    "#     bot.reply_to(message, _result_url)\n",
    "    \n",
    "#     bot.reply_to(message, result_url)\n",
    "#     result_url = api.template_process(1623,[{\n",
    "#         'url' : content_url\n",
    "#     }])\n",
    "#     bot.reply_to(message, result_url)\n",
    "    \n",
    "#     result_url = api.template_process(682,[{\n",
    "#         'url' : result_url\n",
    "#     }])\n",
    "#     bot.reply_to(message, result_url)\n",
    "    \n",
    "#     result_url = api.template_process(1339,[{\n",
    "#         'url' : result_url\n",
    "#     }])\n",
    "#     bot.reply_to(message, result_url)\n",
    "    \n",
    "#     print('Begin deeplearning staff')\n",
    "#     main(images_path_input,\n",
    "#     images_path_output,\n",
    "#     '/home/ubuntu/workspace/photohack/repos/stylegan-encoder',\n",
    "#     '/home/ubuntu/workspace/photohack/repos/TwinGAN',\n",
    "#     '/home/ubuntu/workspace/photohack/models/256')\n",
    "#     print('End deeplearning staff')\n",
    "#     content_url = api.image_upload(images_path_output + 'test_01.png')\n",
    "#     bot.reply_to(message, content_url)\n",
    "#     #\n",
    "    \n",
    "    \n",
    "# #     photo = open('test.jpg', 'rb')\n",
    "# #     bot.send_photo(chat_id, photo)\n",
    "    \n",
    "#     #bot.reply_to(message, message.photo.file_id)\n",
    "#     #message.photo.file_id\n",
    "#     #bot.reply_to(message, message.chat)\n",
    "\n",
    "# @bot.message_handler(func=lambda m: True)\n",
    "# def echo_all(message):\n",
    "#     chat_id = message.chat.id\n",
    "#     print(message)\n",
    "# #     photo = open('girl.jpg', 'rb')\n",
    "# #     bot.send_photo(chat_id, photo)\n",
    "#     bot.reply_to(message, message.chat)\n",
    "\n",
    "# while 1:\n",
    "#     try:\n",
    "#         bot.polling()\n",
    "#     except Exception as e:\n",
    "#         print(e)\n",
    "#         pass"
   ]
  },
  {
   "cell_type": "code",
   "execution_count": 3,
   "metadata": {},
   "outputs": [
    {
     "ename": "ModuleNotFoundError",
     "evalue": "No module named 'util_io'",
     "output_type": "error",
     "traceback": [
      "\u001b[0;31m---------------------------------------------------------------------------\u001b[0m",
      "\u001b[0;31mModuleNotFoundError\u001b[0m                       Traceback (most recent call last)",
      "\u001b[0;32m<ipython-input-3-a8e76e4514a4>\u001b[0m in \u001b[0;36m<module>\u001b[0;34m()\u001b[0m\n\u001b[1;32m      7\u001b[0m \u001b[0;34m\u001b[0m\u001b[0m\n\u001b[1;32m      8\u001b[0m \u001b[0;34m\u001b[0m\u001b[0m\n\u001b[0;32m----> 9\u001b[0;31m \u001b[0;32mimport\u001b[0m \u001b[0mutil_io\u001b[0m\u001b[0;34m\u001b[0m\u001b[0m\n\u001b[0m",
      "\u001b[0;31mModuleNotFoundError\u001b[0m: No module named 'util_io'"
     ]
    }
   ],
   "source": [
    "import sys\n",
    "import os\n",
    "sys.path.append('./')\n",
    "\n",
    "import numpy as np\n",
    "import tensorflow as tf\n",
    "\n",
    "\n",
    "import util_io"
   ]
  },
  {
   "cell_type": "code",
   "execution_count": 12,
   "metadata": {},
   "outputs": [
    {
     "name": "stdout",
     "output_type": "stream",
     "text": [
      "Collecting util_io\n",
      "\u001b[31m  Could not find a version that satisfies the requirement util_io (from versions: )\u001b[0m\n",
      "\u001b[31mNo matching distribution found for util_io\u001b[0m\n",
      "\u001b[33mYou are using pip version 19.0.3, however version 19.1.1 is available.\n",
      "You should consider upgrading via the 'pip install --upgrade pip' command.\u001b[0m\n"
     ]
    }
   ],
   "source": [
    "!pip3 install util_io"
   ]
  },
  {
   "cell_type": "code",
   "execution_count": 15,
   "metadata": {},
   "outputs": [],
   "source": [
    "import os\n",
    "sys.path.append('photohack/repos/TwinGAN')"
   ]
  },
  {
   "cell_type": "code",
   "execution_count": 16,
   "metadata": {},
   "outputs": [
    {
     "name": "stderr",
     "output_type": "stream",
     "text": [
      "/home/ubuntu/anaconda3/envs/tensorflow_p36/lib/python3.6/site-packages/absl/flags/_validators.py:359: UserWarning: Flag --model_path has a non-None default value; therefore, mark_flag_as_required will pass even if flag is not specified in the command line!\n",
      "  'command line!' % flag_name)\n"
     ]
    }
   ],
   "source": [
    "from photohack.repos.TwinGAN.inference.image_translation_infer import ImageInferer "
   ]
  },
  {
   "cell_type": "code",
   "execution_count": null,
   "metadata": {},
   "outputs": [
    {
     "name": "stdout",
     "output_type": "stream",
     "text": [
      "done\n",
      "Begin deeplearning staff\n",
      "End deeplearning staff\n"
     ]
    }
   ],
   "source": [
    "import argparse\n",
    "import subprocess\n",
    "import tempfile\n",
    "from pathlib import Path\n",
    "import telebot\n",
    "import requests\n",
    "import cv2\n",
    "import os.path\n",
    "from hackathon_sdk.python.client_photolab import ClientPhotolab\n",
    "\n",
    "import sys\n",
    "import os\n",
    "sys.path.append('./')\n",
    "\n",
    "import numpy as np\n",
    "import tensorflow as tf\n",
    "\n",
    "\n",
    "import util_io\n",
    "tf.flags.DEFINE_string(\"model_path\", \"\", \"Path containing a checkpoint.\")\n",
    "tf.flags.DEFINE_integer('image_hw', 256, 'height and width of the input image.')\n",
    "tf.flags.DEFINE_string('input_tensor_name', None, 'Optional input tensor name. e.g. sources_ph.')\n",
    "tf.flags.DEFINE_string('output_tensor_name', None, 'e.g. custom_generated_t_style_source:0')\n",
    "\n",
    "tf.flags.mark_flags_as_required(['model_path', 'output_tensor_name'])\n",
    "FLAGS = tf.flags.FLAGS\n",
    "\n",
    "def main(input_dir: Path, output_dir: Path, stylegan_dir: Path, twingan_dir: Path, twingan_model_dir: Path):\n",
    "    with tempfile.TemporaryDirectory(prefix='animefy-') as work_dir:\n",
    "        work_dir = Path(work_dir)\n",
    "        assert work_dir.exists() and work_dir.is_dir()\n",
    "\n",
    "        aligned_images_dir = work_dir / 'aligned'\n",
    "\n",
    "        subprocess.check_call([\n",
    "            'python3',\n",
    "            'align_images.py',\n",
    "            '--output_size', '256',\n",
    "            str(input_dir),\n",
    "            str(aligned_images_dir),\n",
    "        ], cwd=str(stylegan_dir))\n",
    "\n",
    "        subprocess.check_call([\n",
    "            'python3',\n",
    "            'inference/image_translation_infer.py',\n",
    "            '--model_path', str(twingan_model_dir),\n",
    "            '--image_hw', '256',\n",
    "            '--input_tensor_name', 'sources_ph',\n",
    "            '--output_tensor_name', 'custom_generated_t_style_source:0',\n",
    "            '--input_image_path', str(aligned_images_dir),\n",
    "            '--output_image_path', str(output_dir),\n",
    "        ], cwd=str(twingan_dir))\n",
    "\n",
    "images_path_input = '/home/ubuntu/workspace/photohack/inputs/'\n",
    "images_path_output = '/home/ubuntu/workspace/photohack/outputs/'\n",
    "\n",
    "resourses_filename = 'resources.zip'\n",
    "if not os.path.exists(resourses_filename):\n",
    "    api.download_file('http://soft.photolab.me/samples/resources.zip', resourses_filename)\n",
    "api = ClientPhotolab()\n",
    "bot = telebot.TeleBot(\"655293955:AAG9YBDrgh-mX5dAy6HIAsoP_W2Y7tHsWzs\")\n",
    "\n",
    "@bot.message_handler(content_types=['document', 'photo'])\n",
    "def handle_docs_audio(message):\n",
    "    chat_id = message.chat.id\n",
    "    photo_id = message.photo[len(message.photo) - 1].file_id\n",
    "    \n",
    "    file_info = bot.get_file(photo_id)\n",
    "    downloaded_file = bot.download_file(file_info.file_path)\n",
    "    with open(images_path_input + 'test.jpg', 'wb') as new_file:\n",
    "        new_file.write(downloaded_file)\n",
    "    content_url = api.image_upload(images_path_input + 'test.jpg')\n",
    "    result_url = api.template_process('deepmask_process',[{\n",
    "        'url' : content_url\n",
    "    }])\n",
    "    print('done')\n",
    "    \n",
    "    bot.reply_to(message, result_url)\n",
    "    _result_url = api.template_process(2708,[{\n",
    "        'url' : content_url\n",
    "    }])\n",
    "    bot.reply_to(message, _result_url)\n",
    "    \n",
    "    bot.reply_to(message, result_url)\n",
    "    result_url = api.template_process(1623,[{\n",
    "        'url' : content_url\n",
    "    }])\n",
    "    bot.reply_to(message, result_url)\n",
    "    \n",
    "    result_url = api.template_process(682,[{\n",
    "        'url' : result_url\n",
    "    }])\n",
    "    bot.reply_to(message, result_url)\n",
    "    \n",
    "    result_url = api.template_process(1339,[{\n",
    "        'url' : result_url\n",
    "    }])\n",
    "    bot.reply_to(message, result_url)\n",
    "    \n",
    "    print('Begin deeplearning staff')\n",
    "    main(images_path_input,\n",
    "    images_path_output,\n",
    "    '/home/ubuntu/workspace/photohack/repos/stylegan-encoder',\n",
    "    '/home/ubuntu/workspace/photohack/repos/TwinGAN',\n",
    "    '/home/ubuntu/workspace/photohack/models/256')\n",
    "    print('End deeplearning staff')\n",
    "    content_url = api.image_upload(images_path_output + 'test_01.png')\n",
    "    bot.reply_to(message, content_url)\n",
    "    #\n",
    "    \n",
    "    \n",
    "#     photo = open('test.jpg', 'rb')\n",
    "#     bot.send_photo(chat_id, photo)\n",
    "    \n",
    "    #bot.reply_to(message, message.photo.file_id)\n",
    "    #message.photo.file_id\n",
    "    #bot.reply_to(message, message.chat)\n",
    "\n",
    "@bot.message_handler(func=lambda m: True)\n",
    "def echo_all(message):\n",
    "    chat_id = message.chat.id\n",
    "    print(message)\n",
    "#     photo = open('girl.jpg', 'rb')\n",
    "#     bot.send_photo(chat_id, photo)\n",
    "    bot.reply_to(message, message.chat)\n",
    "\n",
    "while 1:\n",
    "    try:\n",
    "        bot.polling()\n",
    "    except Exception as e:\n",
    "        print(e)\n",
    "        pass"
   ]
  },
  {
   "cell_type": "code",
   "execution_count": 2,
   "metadata": {},
   "outputs": [
    {
     "name": "stdout",
     "output_type": "stream",
     "text": [
      "nikulin_dmitry_1_01.png  test_01.png\r\n"
     ]
    }
   ],
   "source": [
    "!ls /home/ubuntu/workspace/photohack/outputs/"
   ]
  },
  {
   "cell_type": "code",
   "execution_count": null,
   "metadata": {},
   "outputs": [],
   "source": []
  }
 ],
 "metadata": {
  "kernelspec": {
   "display_name": "Environment (conda_tensorflow_p36)",
   "language": "python",
   "name": "conda_tensorflow_p36"
  },
  "language_info": {
   "codemirror_mode": {
    "name": "ipython",
    "version": 3
   },
   "file_extension": ".py",
   "mimetype": "text/x-python",
   "name": "python",
   "nbconvert_exporter": "python",
   "pygments_lexer": "ipython3",
   "version": "3.6.5"
  }
 },
 "nbformat": 4,
 "nbformat_minor": 2
}
